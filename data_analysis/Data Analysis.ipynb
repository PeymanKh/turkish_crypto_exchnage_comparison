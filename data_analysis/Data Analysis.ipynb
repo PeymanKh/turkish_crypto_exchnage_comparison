{
 "cells": [
  {
   "cell_type": "markdown",
   "id": "c2e70b2a-2b6a-412a-a1a6-da90107f3497",
   "metadata": {},
   "source": [
    "## 1. Importing Libraries & Files"
   ]
  },
  {
   "cell_type": "code",
   "execution_count": 183,
   "id": "e8a4ea92",
   "metadata": {},
   "outputs": [],
   "source": [
    "# Importing Libraries\n",
    "\n",
    "import json\n",
    "import pandas as pd\n",
    "import numpy as np\n",
    "import matplotlib.pyplot as plt\n",
    "import matplotlib.ticker as mticker\n",
    "import seaborn as sns                               \n",
    "import locale\n"
   ]
  },
  {
   "cell_type": "code",
   "execution_count": 184,
   "id": "1511f94a",
   "metadata": {},
   "outputs": [],
   "source": [
    "# Open JSON and save exchange data into variables\n",
    "\n",
    "with open('data.json') as f:\n",
    "    data = json.load(f)\n",
    "\n",
    "    \n",
    "btcturk_data = data[0]['btcturk']\n",
    "binance_data = data[1]['binance']\n",
    "paribu_data = data[2]['Paribu']"
   ]
  },
  {
   "cell_type": "markdown",
   "id": "72261217-3eb2-44f6-a0f1-a1b8b7699a83",
   "metadata": {},
   "source": [
    "## 2. Creting Variables & Cleaning Data"
   ]
  },
  {
   "cell_type": "code",
   "execution_count": 185,
   "id": "a462c8b0",
   "metadata": {},
   "outputs": [],
   "source": [
    "# Binance data cleaning\n",
    "\n",
    "binance_24h_volume = str(int(float(binance_data['binance_volume'][0].replace('$', '').replace(',', ''))))\n",
    "binance_24h_volume_in_btc = binance_data['binance_volume_in_btc'][0].replace(',', '')\n",
    "binance_7d_volume = binance_data['7d_volume'].replace('$', '').replace(',', '')\n",
    "binance_total_cryptocurrencies = binance_data['binance_total_cryptocurrencies'][0]\n",
    "binance_mounthly_traffic = binance_data['mo_organic_traffic'].replace(',', '')\n",
    "binance_ahref_ranking = binance_data['ahref_ranking'].replace(',', '')\n",
    "binance_markets_no = binance_data['binance_markets'][0]\n",
    "binance_market_dominance = binance_data['binance_market_dominance'][0].replace('%', '')\n",
    "binance_rank = binance_data['binance_market_rank'][0].replace('#', '')\n",
    "binance_markets = binance_data['markets']\n",
    "binance_market_base_coins = [' '.join(market['Base Coin']) if isinstance(market['Base Coin'], list) else market['Base Coin'] for market in binance_markets]\n",
    "binance_market_names = [' '.join(market['Name']) if isinstance(market['Name'], list) else market['Name'] for market in binance_markets]\n",
    "binance_market_volumes = [' '.join(market['Volume']) if isinstance(market['Volume'], list) else market['Volume'].replace('$', '').replace(',', '') for market in binance_markets]\n",
    "binance_market_volumes_percentage = [' '.join(market['Volume %']).replace('%', '') if isinstance(market['Volume %'], list) else market['Volume %'].replace('%', '')for market in binance_markets]"
   ]
  },
  {
   "cell_type": "code",
   "execution_count": 186,
   "id": "5059e8ee",
   "metadata": {},
   "outputs": [],
   "source": [
    "# BtcTurk data cleaning\n",
    "\n",
    "btcturk_24h_volume = str(int(float(btcturk_data['btcturk_volume'][0].replace('$', '').replace(',', ''))))\n",
    "btcturk_24h_volume_in_btc = btcturk_data['btcturk_volume_in_btc'][0].replace(',', '')\n",
    "btcturk_7d_volume = btcturk_data['7d_volume'].replace('$', '').replace(',', '')\n",
    "btcturk_total_cryptocurrencies = btcturk_data['btcturk_total_cryptocurrencies'][0]\n",
    "btcturk_mounthly_traffic = btcturk_data['mo_organic_traffic'].replace(',', '')\n",
    "btcturk_ahref_ranking = btcturk_data['ahref_ranking'].replace(',', '')\n",
    "btcturk_markets_no = btcturk_data['btcturk_markets_raw'][0]\n",
    "btcturk_market_dominance = btcturk_data['btcturk_market_dominance'][0].replace('%', '')\n",
    "btcturk_rank = btcturk_data['btcturk_market_rank'][0].replace('#', '')\n",
    "btcturk_markets = btcturk_data['markets']\n",
    "btcturk_market_base_coins = [' '.join(market['Base Coin']) if isinstance(market['Base Coin'], list) else market['Base Coin'] for market in btcturk_markets]\n",
    "btcturk_market_names = [' '.join(market['Name']) if isinstance(market['Name'], list) else market['Name'] for market in btcturk_markets]\n",
    "btcturk_market_volumes = [' '.join(market['Volume']) if isinstance(market['Volume'], list) else market['Volume'].replace('$', '').replace(',', '') for market in btcturk_markets]\n",
    "btcturk_market_volumes_percentage = [' '.join(market['Volume %']).replace('%', '') if isinstance(market['Volume %'], list) else market['Volume %'].replace('%', '')for market in btcturk_markets]"
   ]
  },
  {
   "cell_type": "code",
   "execution_count": 187,
   "id": "b4abcdb9",
   "metadata": {},
   "outputs": [],
   "source": [
    "# Paribu data cleaning\n",
    "\n",
    "paribu_24h_volume = str(int(float(paribu_data['paribu_volume'][0].replace('$', '').replace(',', ''))))\n",
    "paribu_24h_volume_in_btc = paribu_data['paribu_volume_in_btc'][0].replace(',', '')\n",
    "paribu_7d_volume = paribu_data['7d_volume'].replace('$', '').replace(',', '')\n",
    "paribu_total_cryptocurrencies = paribu_data['paribu_total_cryptocurrencies'][0]\n",
    "paribu_mounthly_traffic = paribu_data['mo_organic_traffic'].replace(',', '')\n",
    "paribu_ahref_ranking = paribu_data['ahref_ranking'].replace(',', '')\n",
    "paribu_markets_no = paribu_data['paribu_markets'][0]\n",
    "paribu_market_dominance = paribu_data['paribu_market_dominance'][0].replace('%', '')\n",
    "paribu_rank = paribu_data['paribu_market_rank'][0].replace('#', '')\n",
    "paribu_markets = paribu_data['markets']\n",
    "paribu_market_base_coins = [' '.join(market['Base Coin']) if isinstance(market['Base Coin'], list) else market['Base Coin'] for market in paribu_markets]\n",
    "paribu_market_names = [' '.join(market['Name']) if isinstance(market['Name'], list) else market['Name'] for market in paribu_markets]\n",
    "paribu_market_volumes = [' '.join(market['Volume']) if isinstance(market['Volume'], list) else market['Volume'].replace('$', '').replace(',', '') for market in paribu_markets]\n",
    "paribu_market_volumes_percentage = [' '.join(market['Volume %']).replace('%', '') if isinstance(market['Volume %'], list) else market['Volume %'].replace('%', '')for market in paribu_markets]"
   ]
  },
  {
   "cell_type": "code",
   "execution_count": 188,
   "id": "da3cc798",
   "metadata": {},
   "outputs": [],
   "source": [
    "# Caculate Total Value in each Exchange\n",
    "\n",
    "binance_total_maerket_volume = 0\n",
    "for i in binance_market_volumes:\n",
    "    n = int(i)\n",
    "    binance_total_maerket_volume += n\n",
    "    \n",
    "btcturk_total_maerket_volume = 0\n",
    "for i in btcturk_market_volumes:\n",
    "    n = int(i)\n",
    "    btcturk_total_maerket_volume += n\n",
    "    \n",
    "paribu_total_maerket_volume = 0\n",
    "for i in paribu_market_volumes:\n",
    "    n = int(i)\n",
    "    paribu_total_maerket_volume += n"
   ]
  },
  {
   "cell_type": "markdown",
   "id": "3897fae6-e1ec-416d-8482-927e0e0e6cbc",
   "metadata": {},
   "source": [
    "## 3. Creating DataFrames"
   ]
  },
  {
   "cell_type": "code",
   "execution_count": 189,
   "id": "1c318b30",
   "metadata": {},
   "outputs": [],
   "source": [
    "exchanges = ['Binance', 'BtcTurk', 'Paribu']\n",
    "volumes_24h = [binance_24h_volume, btcturk_24h_volume, paribu_24h_volume]\n",
    "volumes_24h_btc = [binance_24h_volume_in_btc, btcturk_24h_volume_in_btc, paribu_24h_volume_in_btc]\n",
    "volumes_7d = [binance_7d_volume, btcturk_7d_volume, paribu_7d_volume]\n",
    "total_cryptocurrencies = [binance_total_cryptocurrencies, btcturk_total_cryptocurrencies, paribu_total_cryptocurrencies]\n",
    "mounthly_website_traffics = [binance_mounthly_traffic, btcturk_mounthly_traffic, paribu_mounthly_traffic]\n",
    "ahref_rankings = [binance_ahref_ranking, btcturk_ahref_ranking, paribu_ahref_ranking]\n",
    "number_of_markets = [binance_markets_no, btcturk_markets_no, paribu_markets_no]\n",
    "dominances = [binance_market_dominance, btcturk_market_dominance, paribu_market_dominance]\n",
    "ranks = [binance_rank, btcturk_rank, paribu_rank]\n",
    "\n",
    "\n",
    "df_exchange_data = pd.DataFrame({\n",
    "    'Exchange': exchanges,\n",
    "    '24H Volume($)': volumes_24h,\n",
    "    '24H Volume(BTC)': volumes_24h_btc,\n",
    "    '7D Volume($)': volumes_7d,\n",
    "    'Total Cryptocurrencies': total_cryptocurrencies,\n",
    "    'Number of Markets': number_of_markets,\n",
    "    'Exchange Rank': ranks, \n",
    "    'Exchange Dominance among all Exchanges': dominances,\n",
    "    'Mounthly Website Traffic': mounthly_website_traffics,\n",
    "    'Ahref Ranking': ahref_rankings,})"
   ]
  },
  {
   "cell_type": "code",
   "execution_count": 190,
   "id": "8fe4e40a",
   "metadata": {},
   "outputs": [
    {
     "data": {
      "text/html": [
       "<div>\n",
       "<style scoped>\n",
       "    .dataframe tbody tr th:only-of-type {\n",
       "        vertical-align: middle;\n",
       "    }\n",
       "\n",
       "    .dataframe tbody tr th {\n",
       "        vertical-align: top;\n",
       "    }\n",
       "\n",
       "    .dataframe thead th {\n",
       "        text-align: right;\n",
       "    }\n",
       "</style>\n",
       "<table border=\"1\" class=\"dataframe\">\n",
       "  <thead>\n",
       "    <tr style=\"text-align: right;\">\n",
       "      <th></th>\n",
       "      <th>Exchange</th>\n",
       "      <th>24H Volume($)</th>\n",
       "      <th>24H Volume(BTC)</th>\n",
       "      <th>7D Volume($)</th>\n",
       "      <th>Total Cryptocurrencies</th>\n",
       "      <th>Number of Markets</th>\n",
       "      <th>Exchange Rank</th>\n",
       "      <th>Exchange Dominance among all Exchanges</th>\n",
       "      <th>Mounthly Website Traffic</th>\n",
       "      <th>Ahref Ranking</th>\n",
       "    </tr>\n",
       "  </thead>\n",
       "  <tbody>\n",
       "    <tr>\n",
       "      <th>0</th>\n",
       "      <td>Binance</td>\n",
       "      <td>814947158</td>\n",
       "      <td>11315</td>\n",
       "      <td>123371519808</td>\n",
       "      <td>177</td>\n",
       "      <td>200</td>\n",
       "      <td>21</td>\n",
       "      <td>0.47</td>\n",
       "      <td>172027</td>\n",
       "      <td>296536</td>\n",
       "    </tr>\n",
       "    <tr>\n",
       "      <th>1</th>\n",
       "      <td>BtcTurk</td>\n",
       "      <td>895318664</td>\n",
       "      <td>12431</td>\n",
       "      <td>78744263965</td>\n",
       "      <td>108</td>\n",
       "      <td>208</td>\n",
       "      <td>99</td>\n",
       "      <td>0.51</td>\n",
       "      <td>20235</td>\n",
       "      <td>208255</td>\n",
       "    </tr>\n",
       "    <tr>\n",
       "      <th>2</th>\n",
       "      <td>Paribu</td>\n",
       "      <td>340281662</td>\n",
       "      <td>4725</td>\n",
       "      <td>52493047888</td>\n",
       "      <td>145</td>\n",
       "      <td>152</td>\n",
       "      <td>121</td>\n",
       "      <td>0.19</td>\n",
       "      <td>724411</td>\n",
       "      <td>188513</td>\n",
       "    </tr>\n",
       "  </tbody>\n",
       "</table>\n",
       "</div>"
      ],
      "text/plain": [
       "  Exchange 24H Volume($) 24H Volume(BTC)  7D Volume($) Total Cryptocurrencies  \\\n",
       "0  Binance     814947158           11315  123371519808                    177   \n",
       "1  BtcTurk     895318664           12431   78744263965                    108   \n",
       "2   Paribu     340281662            4725   52493047888                    145   \n",
       "\n",
       "  Number of Markets Exchange Rank Exchange Dominance among all Exchanges  \\\n",
       "0               200            21                                   0.47   \n",
       "1               208            99                                   0.51   \n",
       "2               152           121                                   0.19   \n",
       "\n",
       "  Mounthly Website Traffic Ahref Ranking  \n",
       "0                   172027        296536  \n",
       "1                    20235        208255  \n",
       "2                   724411        188513  "
      ]
     },
     "execution_count": 190,
     "metadata": {},
     "output_type": "execute_result"
    }
   ],
   "source": [
    "df_exchange_data.head()"
   ]
  },
  {
   "cell_type": "code",
   "execution_count": 191,
   "id": "ec05bc61",
   "metadata": {},
   "outputs": [
    {
     "name": "stdout",
     "output_type": "stream",
     "text": [
      "<class 'pandas.core.frame.DataFrame'>\n",
      "RangeIndex: 3 entries, 0 to 2\n",
      "Data columns (total 10 columns):\n",
      " #   Column                                  Non-Null Count  Dtype \n",
      "---  ------                                  --------------  ----- \n",
      " 0   Exchange                                3 non-null      object\n",
      " 1   24H Volume($)                           3 non-null      object\n",
      " 2   24H Volume(BTC)                         3 non-null      object\n",
      " 3   7D Volume($)                            3 non-null      object\n",
      " 4   Total Cryptocurrencies                  3 non-null      object\n",
      " 5   Number of Markets                       3 non-null      object\n",
      " 6   Exchange Rank                           3 non-null      object\n",
      " 7   Exchange Dominance among all Exchanges  3 non-null      object\n",
      " 8   Mounthly Website Traffic                3 non-null      object\n",
      " 9   Ahref Ranking                           3 non-null      object\n",
      "dtypes: object(10)\n",
      "memory usage: 372.0+ bytes\n"
     ]
    }
   ],
   "source": [
    "df_exchange_data.info()"
   ]
  },
  {
   "cell_type": "code",
   "execution_count": 192,
   "id": "a7a01f4a-2c9f-4072-b48a-e70c0cecffdc",
   "metadata": {},
   "outputs": [],
   "source": [
    "df_exchange_data['Exchange'] = df_exchange_data['Exchange'].astype('category')\n",
    "df_exchange_data['24H Volume($)'] = df_exchange_data['24H Volume($)'].astype('int')\n",
    "df_exchange_data['24H Volume(BTC)'] = df_exchange_data['24H Volume(BTC)'].astype('int')\n",
    "df_exchange_data['7D Volume($)'] = df_exchange_data['7D Volume($)'].astype('int')\n",
    "df_exchange_data['Total Cryptocurrencies'] = df_exchange_data['Total Cryptocurrencies'].astype('int')\n",
    "df_exchange_data['Number of Markets'] = df_exchange_data['Number of Markets'].astype('int')\n",
    "df_exchange_data['Exchange Rank'] = df_exchange_data['Exchange Rank'].astype('int')\n",
    "df_exchange_data['Exchange Dominance among all Exchanges'] = df_exchange_data['Exchange Dominance among all Exchanges'].astype('float')\n",
    "df_exchange_data['Mounthly Website Traffic'] = df_exchange_data['Mounthly Website Traffic'].astype('int')\n",
    "df_exchange_data['Ahref Ranking'] = df_exchange_data['Ahref Ranking'].astype('int')\n",
    "\n",
    "df_exchange_data['24H Volume($)'] = df_exchange_data['24H Volume($)'] / 1e6\n",
    "df_exchange_data['7D Volume($)'] = df_exchange_data['7D Volume($)'] / 1e9"
   ]
  },
  {
   "cell_type": "code",
   "execution_count": 193,
   "id": "b959890f-b643-4e44-a0ad-3c7cc276a553",
   "metadata": {},
   "outputs": [
    {
     "name": "stdout",
     "output_type": "stream",
     "text": [
      "<class 'pandas.core.frame.DataFrame'>\n",
      "RangeIndex: 3 entries, 0 to 2\n",
      "Data columns (total 10 columns):\n",
      " #   Column                                  Non-Null Count  Dtype   \n",
      "---  ------                                  --------------  -----   \n",
      " 0   Exchange                                3 non-null      category\n",
      " 1   24H Volume($)                           3 non-null      float64 \n",
      " 2   24H Volume(BTC)                         3 non-null      int64   \n",
      " 3   7D Volume($)                            3 non-null      float64 \n",
      " 4   Total Cryptocurrencies                  3 non-null      int64   \n",
      " 5   Number of Markets                       3 non-null      int64   \n",
      " 6   Exchange Rank                           3 non-null      int64   \n",
      " 7   Exchange Dominance among all Exchanges  3 non-null      float64 \n",
      " 8   Mounthly Website Traffic                3 non-null      int64   \n",
      " 9   Ahref Ranking                           3 non-null      int64   \n",
      "dtypes: category(1), float64(3), int64(6)\n",
      "memory usage: 483.0 bytes\n"
     ]
    }
   ],
   "source": [
    "df_exchange_data.info()"
   ]
  },
  {
   "cell_type": "markdown",
   "id": "e4331165-aecb-4b81-82ac-2735828c643a",
   "metadata": {},
   "source": [
    "## 4. Visualizing"
   ]
  },
  {
   "cell_type": "code",
   "execution_count": 215,
   "id": "712a9d7a-446c-42f5-a717-8331e660c577",
   "metadata": {},
   "outputs": [
    {
     "name": "stderr",
     "output_type": "stream",
     "text": [
      "/opt/anaconda3/lib/python3.11/site-packages/seaborn/categorical.py:641: FutureWarning: The default of observed=False is deprecated and will be changed to True in a future version of pandas. Pass observed=False to retain current behavior or observed=True to adopt the future default and silence this warning.\n",
      "  grouped_vals = vals.groupby(grouper)\n"
     ]
    },
    {
     "data": {
      "image/png": "[encoded data removed]",
      "text/plain": [
       "<Figure size 1000x600 with 1 Axes>"
      ]
     },
     "metadata": {},
     "output_type": "display_data"
    }
   ],
   "source": [
    "df_exchange_data = df_exchange_data.sort_values(by='24H Volume($)', ascending=False)\n",
    "\n",
    "# Create a bar plot using Seaborn\n",
    "plt.figure(figsize=(10, 6))\n",
    "ax = sns.barplot(x='Exchange', y='24H Volume($)', data=df_exchange_data, palette='rocket', order=df_exchange_data['Exchange'])\n",
    "\n",
    "# Customize y-axis ticks to represent specific values in millions\n",
    "ax.set_yticks([0, 300, 600, 900])\n",
    "\n",
    "# Customize y-axis labels to represent values in millions\n",
    "ax.yaxis.set_major_formatter(mticker.StrMethodFormatter('{x:.0f}M'))\n",
    "\n",
    "# Annotate each bar with its value\n",
    "for p in ax.patches:\n",
    "    ax.annotate(f'{p.get_height():.2f}M', (p.get_x() + p.get_width() / 2., p.get_height()),\n",
    "                ha='center', va='center', xytext=(0, 10), textcoords='offset points')\n",
    "\n",
    "plt.title('24H Volume($) Across Exchanges')\n",
    "plt.xlabel('Exchange')\n",
    "plt.ylabel('24H Volume($)')\n",
    "plt.show()\n"
   ]
  },
  {
   "cell_type": "code",
   "execution_count": 195,
   "id": "e1609d0d-2af5-4966-8688-a6493bbd07ca",
   "metadata": {},
   "outputs": [
    {
     "name": "stdout",
     "output_type": "stream",
     "text": [
      "1    12431\n",
      "0    11315\n",
      "2     4725\n",
      "Name: 24H Volume(BTC), dtype: int64\n"
     ]
    }
   ],
   "source": [
    "print(df_exchange_data['24H Volume(BTC)'])"
   ]
  },
  {
   "cell_type": "code",
   "execution_count": 208,
   "id": "341f0262-1d15-4dc3-be7e-a699d886e3d7",
   "metadata": {},
   "outputs": [
    {
     "name": "stderr",
     "output_type": "stream",
     "text": [
      "/opt/anaconda3/lib/python3.11/site-packages/seaborn/categorical.py:641: FutureWarning: The default of observed=False is deprecated and will be changed to True in a future version of pandas. Pass observed=False to retain current behavior or observed=True to adopt the future default and silence this warning.\n",
      "  grouped_vals = vals.groupby(grouper)\n"
     ]
    },
    {
     "data": {
      "image/png": "[encoded data removed]",
      "text/plain": [
       "<Figure size 1000x600 with 1 Axes>"
      ]
     },
     "metadata": {},
     "output_type": "display_data"
    }
   ],
   "source": [
    "df_exchange_data = df_exchange_data.sort_values(by='24H Volume(BTC)', ascending=False)\n",
    "\n",
    "# Create a bar plot using Seaborn\n",
    "plt.figure(figsize=(10, 6))\n",
    "ax = sns.barplot(x='Exchange', y='24H Volume(BTC)', data=df_exchange_data, palette='rocket', order=df_exchange_data['Exchange'])\n",
    "\n",
    "# Customize y-axis ticks to represent specific values\n",
    "ax.set_yticks([0, 4000, 8000, 12000, 16000])\n",
    "\n",
    "# Annotate each bar with its value formatted with commas and append \"BTC\"\n",
    "for p in ax.patches:\n",
    "    height = p.get_height()\n",
    "    formatted_value = '{:,.0f}'.format(height)  # Add commas as thousands separators\n",
    "    ax.annotate(f'{formatted_value} BTC', (p.get_x() + p.get_width() / 2., height),\n",
    "                ha='center', va='center', xytext=(0, 10), textcoords='offset points')\n",
    "\n",
    "plt.title('24H Volume(BTC) Across Exchanges')\n",
    "plt.xlabel('Exchange')\n",
    "plt.ylabel('24H Volume(BTC)')\n",
    "plt.show()\n"
   ]
  },
  {
   "cell_type": "code",
   "execution_count": 216,
   "id": "25ede3b0-b1a9-4f2d-925c-c9ee6dd5b095",
   "metadata": {},
   "outputs": [
    {
     "name": "stderr",
     "output_type": "stream",
     "text": [
      "/opt/anaconda3/lib/python3.11/site-packages/seaborn/categorical.py:641: FutureWarning: The default of observed=False is deprecated and will be changed to True in a future version of pandas. Pass observed=False to retain current behavior or observed=True to adopt the future default and silence this warning.\n",
      "  grouped_vals = vals.groupby(grouper)\n"
     ]
    },
    {
     "data": {
      "image/png": "[encoded data removed]",
      "text/plain": [
       "<Figure size 1000x600 with 1 Axes>"
      ]
     },
     "metadata": {},
     "output_type": "display_data"
    }
   ],
   "source": [
    "df_exchange_data = df_exchange_data.sort_values(by='7D Volume($)', ascending=False)\n",
    "\n",
    "# Create a bar plot using Seaborn\n",
    "plt.figure(figsize=(10, 6))\n",
    "ax = sns.barplot(x='Exchange', y='7D Volume($)', data=df_exchange_data, palette='rocket', order=df_exchange_data['Exchange'])\n",
    "\n",
    "# Customize y-axis ticks to represent specific values in millions\n",
    "ax.set_yticks([0, 40, 80, 120])\n",
    "\n",
    "# Customize y-axis labels to represent values in millions\n",
    "#ax.yaxis.set_major_formatter(mticker.StrMethodFormatter('{x:.0f}B'))\n",
    "\n",
    "# Annotate each bar with its value\n",
    "for p in ax.patches:\n",
    "    ax.annotate(f'{p.get_height():.2f}B', (p.get_x() + p.get_width() / 2., p.get_height()),\n",
    "                ha='center', va='center', xytext=(0, 10), textcoords='offset points')\n",
    "\n",
    "plt.title('7D Volume($) Across Exchanges')\n",
    "plt.xlabel('Exchange')\n",
    "plt.ylabel('7D Volume($ in Billions)')\n",
    "plt.show()\n"
   ]
  },
  {
   "cell_type": "code",
   "execution_count": null,
   "id": "80886ee5-48f7-4f51-9bff-7a777df93ecd",
   "metadata": {},
   "outputs": [],
   "source": []
  }
 ],
 "metadata": {
  "kernelspec": {
   "display_name": "Python 3 (ipykernel)",
   "language": "python",
   "name": "python3"
  },
  "language_info": {
   "codemirror_mode": {
    "name": "ipython",
    "version": 3
   },
   "file_extension": ".py",
   "mimetype": "text/x-python",
   "name": "python",
   "nbconvert_exporter": "python",
   "pygments_lexer": "ipython3",
   "version": "3.11.7"
  }
 },
 "nbformat": 4,
 "nbformat_minor": 5
}
